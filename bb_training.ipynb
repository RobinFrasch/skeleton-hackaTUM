{
 "cells": [
  {
   "cell_type": "markdown",
   "metadata": {},
   "source": [
    "# Bounding Box Regressor - Training\n",
    "This notebook contains the code base used to train the bone fracture detector. It is heavily based on [this](https://jovian.ai/aakanksha-ns/road-signs-bounding-box-prediction)."
   ]
  },
  {
   "cell_type": "code",
   "execution_count": 1,
   "metadata": {},
   "outputs": [],
   "source": [
    "import os\n",
    "import random\n",
    "import math\n",
    "from datetime import datetime\n",
    "from collections import Counter\n",
    "import pandas as pd\n",
    "import numpy as np\n",
    "\n",
    "import cv2\n",
    "from PIL import Image\n",
    "from pathlib import Path\n",
    "import matplotlib.pyplot as plt\n",
    "from matplotlib.patches import Rectangle\n",
    "from sklearn.model_selection import train_test_split\n",
    "import xml.etree.ElementTree as ET\n",
    "\n",
    "import torch\n",
    "from torch.utils.data import Dataset, DataLoader\n",
    "import torch.optim as optim\n",
    "import torch.nn as nn\n",
    "import torch.nn.functional as F\n",
    "from torchvision import models"
   ]
  },
  {
   "cell_type": "code",
   "execution_count": 2,
   "metadata": {},
   "outputs": [],
   "source": [
    "%reload_ext autoreload\n",
    "%autoreload 2\n",
    "%matplotlib inline"
   ]
  },
  {
   "cell_type": "code",
   "execution_count": 3,
   "metadata": {},
   "outputs": [],
   "source": [
    "images_path = Path('/home/thilo/bb_test/custom_data/images')\n",
    "anno_path = Path('/home/thilo/bb_test/custom_data/labels')"
   ]
  },
  {
   "cell_type": "markdown",
   "metadata": {},
   "source": [
    "## Loading the data"
   ]
  },
  {
   "cell_type": "code",
   "execution_count": 4,
   "metadata": {},
   "outputs": [],
   "source": [
    "def filelist(root, file_type):\n",
    "    \"\"\"Returns a fully-qualified list of filenames under root directory\"\"\"\n",
    "    return [os.path.join(directory_path, f) for directory_path, directory_name, \n",
    "            files in os.walk(root) for f in files if f.endswith(file_type)]\n",
    "\n",
    "def generate_train_df (anno_path):\n",
    "    annotations = filelist(anno_path, '.xml')\n",
    "    anno_list = []\n",
    "    for anno_path in annotations:\n",
    "        root = ET.parse(anno_path).getroot()\n",
    "        anno = {}\n",
    "        anno['filename'] = Path(str(images_path) + '/'+ root.find(\"./filename\").text)\n",
    "        anno['width'] = root.find(\"./size/width\").text\n",
    "        anno['height'] = root.find(\"./size/height\").text\n",
    "        anno['class'] = root.find(\"./object/name\").text\n",
    "        anno['xmin'] = int(root.find(\"./object/bndbox/xmin\").text)\n",
    "        anno['ymin'] = int(root.find(\"./object/bndbox/ymin\").text)\n",
    "        anno['xmax'] = int(root.find(\"./object/bndbox/xmax\").text)\n",
    "        anno['ymax'] = int(root.find(\"./object/bndbox/ymax\").text)\n",
    "        anno_list.append(anno)\n",
    "    return pd.DataFrame(anno_list)"
   ]
  },
  {
   "cell_type": "code",
   "execution_count": 5,
   "metadata": {},
   "outputs": [],
   "source": [
    "df_train = generate_train_df(anno_path)"
   ]
  },
  {
   "cell_type": "code",
   "execution_count": 6,
   "metadata": {},
   "outputs": [],
   "source": [
    "#label encode target\n",
    "class_dict = {'fracture': 0}\n",
    "df_train['class'] = df_train['class'].apply(lambda x:  class_dict[x])"
   ]
  },
  {
   "cell_type": "code",
   "execution_count": 7,
   "metadata": {},
   "outputs": [
    {
     "name": "stdout",
     "output_type": "stream",
     "text": [
      "(13, 8)\n"
     ]
    },
    {
     "data": {
      "text/html": [
       "<div>\n",
       "<style scoped>\n",
       "    .dataframe tbody tr th:only-of-type {\n",
       "        vertical-align: middle;\n",
       "    }\n",
       "\n",
       "    .dataframe tbody tr th {\n",
       "        vertical-align: top;\n",
       "    }\n",
       "\n",
       "    .dataframe thead th {\n",
       "        text-align: right;\n",
       "    }\n",
       "</style>\n",
       "<table border=\"1\" class=\"dataframe\">\n",
       "  <thead>\n",
       "    <tr style=\"text-align: right;\">\n",
       "      <th></th>\n",
       "      <th>filename</th>\n",
       "      <th>width</th>\n",
       "      <th>height</th>\n",
       "      <th>class</th>\n",
       "      <th>xmin</th>\n",
       "      <th>ymin</th>\n",
       "      <th>xmax</th>\n",
       "      <th>ymax</th>\n",
       "    </tr>\n",
       "  </thead>\n",
       "  <tbody>\n",
       "    <tr>\n",
       "      <th>0</th>\n",
       "      <td>/home/thilo/bb_test/custom_data/images/postpro...</td>\n",
       "      <td>640</td>\n",
       "      <td>480</td>\n",
       "      <td>0</td>\n",
       "      <td>242</td>\n",
       "      <td>240</td>\n",
       "      <td>319</td>\n",
       "      <td>319</td>\n",
       "    </tr>\n",
       "    <tr>\n",
       "      <th>1</th>\n",
       "      <td>/home/thilo/bb_test/custom_data/images/postpro...</td>\n",
       "      <td>640</td>\n",
       "      <td>480</td>\n",
       "      <td>0</td>\n",
       "      <td>43</td>\n",
       "      <td>197</td>\n",
       "      <td>187</td>\n",
       "      <td>337</td>\n",
       "    </tr>\n",
       "    <tr>\n",
       "      <th>2</th>\n",
       "      <td>/home/thilo/bb_test/custom_data/images/postpro...</td>\n",
       "      <td>640</td>\n",
       "      <td>480</td>\n",
       "      <td>0</td>\n",
       "      <td>230</td>\n",
       "      <td>226</td>\n",
       "      <td>373</td>\n",
       "      <td>289</td>\n",
       "    </tr>\n",
       "    <tr>\n",
       "      <th>3</th>\n",
       "      <td>/home/thilo/bb_test/custom_data/images/postpro...</td>\n",
       "      <td>640</td>\n",
       "      <td>480</td>\n",
       "      <td>0</td>\n",
       "      <td>325</td>\n",
       "      <td>265</td>\n",
       "      <td>435</td>\n",
       "      <td>324</td>\n",
       "    </tr>\n",
       "    <tr>\n",
       "      <th>4</th>\n",
       "      <td>/home/thilo/bb_test/custom_data/images/postpro...</td>\n",
       "      <td>640</td>\n",
       "      <td>480</td>\n",
       "      <td>0</td>\n",
       "      <td>245</td>\n",
       "      <td>226</td>\n",
       "      <td>359</td>\n",
       "      <td>319</td>\n",
       "    </tr>\n",
       "  </tbody>\n",
       "</table>\n",
       "</div>"
      ],
      "text/plain": [
       "                                            filename width height  class  \\\n",
       "0  /home/thilo/bb_test/custom_data/images/postpro...   640    480      0   \n",
       "1  /home/thilo/bb_test/custom_data/images/postpro...   640    480      0   \n",
       "2  /home/thilo/bb_test/custom_data/images/postpro...   640    480      0   \n",
       "3  /home/thilo/bb_test/custom_data/images/postpro...   640    480      0   \n",
       "4  /home/thilo/bb_test/custom_data/images/postpro...   640    480      0   \n",
       "\n",
       "   xmin  ymin  xmax  ymax  \n",
       "0   242   240   319   319  \n",
       "1    43   197   187   337  \n",
       "2   230   226   373   289  \n",
       "3   325   265   435   324  \n",
       "4   245   226   359   319  "
      ]
     },
     "execution_count": 7,
     "metadata": {},
     "output_type": "execute_result"
    }
   ],
   "source": [
    "print(df_train.shape)\n",
    "df_train.head()"
   ]
  },
  {
   "cell_type": "markdown",
   "metadata": {},
   "source": [
    "## Resizing images and bounding boxes"
   ]
  },
  {
   "cell_type": "code",
   "execution_count": 8,
   "metadata": {},
   "outputs": [],
   "source": [
    "#Reading an image\n",
    "def read_image(path):\n",
    "    print(str(path))\n",
    "    return cv2.cvtColor(cv2.imread(str(path)), cv2.COLOR_BGR2RGB)"
   ]
  },
  {
   "cell_type": "code",
   "execution_count": 9,
   "metadata": {},
   "outputs": [],
   "source": [
    "def create_mask(bb, x):\n",
    "    \"\"\"Creates a mask for the bounding box of same shape as image\"\"\"\n",
    "    rows,cols,*_ = x.shape\n",
    "    Y = np.zeros((rows, cols))\n",
    "    bb = bb.astype(np.int)\n",
    "    Y[bb[0]:bb[2], bb[1]:bb[3]] = 1.\n",
    "    return Y\n",
    "\n",
    "def mask_to_bb(Y):\n",
    "    \"\"\"Convert mask Y to a bounding box, assumes 0 as background nonzero object\"\"\"\n",
    "    cols, rows = np.nonzero(Y)\n",
    "    if len(cols)==0: \n",
    "        return np.zeros(4, dtype=np.float32)\n",
    "    top_row = np.min(rows)\n",
    "    left_col = np.min(cols)\n",
    "    bottom_row = np.max(rows)\n",
    "    right_col = np.max(cols)\n",
    "    return np.array([left_col, top_row, right_col, bottom_row], dtype=np.float32)\n",
    "\n",
    "def create_bb_array(x):\n",
    "    \"\"\"Generates bounding box array from a train_df row\"\"\"\n",
    "    return np.array([x[5],x[4],x[7],x[6]])"
   ]
  },
  {
   "cell_type": "code",
   "execution_count": 10,
   "metadata": {},
   "outputs": [],
   "source": [
    "def resize_image_bb(read_path,write_path,bb,sz):\n",
    "    \"\"\"Resize an image and its bounding box and write image to new path\"\"\"\n",
    "    im = read_image(read_path)\n",
    "    im_resized = cv2.resize(im, (int(1.49*sz), sz))\n",
    "    Y_resized = cv2.resize(create_mask(bb, im), (int(1.49*sz), sz))\n",
    "    new_path = str(write_path/read_path.parts[-1])\n",
    "    cv2.imwrite(new_path, cv2.cvtColor(im_resized, cv2.COLOR_RGB2BGR))\n",
    "    return new_path, mask_to_bb(Y_resized)"
   ]
  },
  {
   "cell_type": "code",
   "execution_count": 11,
   "metadata": {},
   "outputs": [
    {
     "name": "stdout",
     "output_type": "stream",
     "text": [
      "/home/thilo/bb_test/custom_data/images/postprocessed_hand_130.jpg\n",
      "/home/thilo/bb_test/custom_data/images/postprocessed_hand_25.jpg\n",
      "/home/thilo/bb_test/custom_data/images/postprocessed_hand_63.jpg\n",
      "/home/thilo/bb_test/custom_data/images/postprocessed_hand_30.jpg\n",
      "/home/thilo/bb_test/custom_data/images/postprocessed_hand_1101.jpg\n",
      "/home/thilo/bb_test/custom_data/images/postprocessed_hand_81.jpg\n",
      "/home/thilo/bb_test/custom_data/images/postprocessed_hand_156.jpg\n",
      "/home/thilo/bb_test/custom_data/images/postprocessed_hand_27.jpg\n",
      "/home/thilo/bb_test/custom_data/images/postprocessed_hand_114.jpg\n",
      "/home/thilo/bb_test/custom_data/images/postprocessed_hand_1212.jpg\n",
      "/home/thilo/bb_test/custom_data/images/postprocessed_hand_7.jpg\n",
      "/home/thilo/bb_test/custom_data/images/postprocessed_hand_171.jpg\n",
      "/home/thilo/bb_test/custom_data/images/postprocessed_hand_15.jpg\n"
     ]
    },
    {
     "name": "stderr",
     "output_type": "stream",
     "text": [
      "/tmp/ipykernel_4210/83097149.py:5: DeprecationWarning: `np.int` is a deprecated alias for the builtin `int`. To silence this warning, use `int` by itself. Doing this will not modify any behavior and is safe. When replacing `np.int`, you may wish to use e.g. `np.int64` or `np.int32` to specify the precision. If you wish to review your current use, check the release note link for additional information.\n",
      "Deprecated in NumPy 1.20; for more details and guidance: https://numpy.org/devdocs/release/1.20.0-notes.html#deprecations\n",
      "  bb = bb.astype(np.int)\n"
     ]
    }
   ],
   "source": [
    "#Populating Training DF with new paths and bounding boxes\n",
    "new_paths = []\n",
    "new_bbs = []\n",
    "train_path_resized = Path('/home/thilo/bb_test/custom_data/images_resized')\n",
    "for index, row in df_train.iterrows():\n",
    "    new_path,new_bb = resize_image_bb(row['filename'], train_path_resized, create_bb_array(row.values),300)\n",
    "    new_paths.append(new_path)\n",
    "    new_bbs.append(new_bb)\n",
    "df_train['new_path'] = new_paths\n",
    "df_train['new_bb'] = new_bbs"
   ]
  },
  {
   "cell_type": "markdown",
   "metadata": {},
   "source": [
    "## Sample Image"
   ]
  },
  {
   "cell_type": "code",
   "execution_count": 12,
   "metadata": {},
   "outputs": [
    {
     "name": "stdout",
     "output_type": "stream",
     "text": [
      "(480, 640, 3)\n"
     ]
    }
   ],
   "source": [
    "im = cv2.imread(str(df_train.values[0][0]))\n",
    "bb = create_bb_array(df_train.values[0])\n",
    "print(im.shape)"
   ]
  },
  {
   "cell_type": "code",
   "execution_count": 13,
   "metadata": {},
   "outputs": [
    {
     "name": "stderr",
     "output_type": "stream",
     "text": [
      "/tmp/ipykernel_4210/83097149.py:5: DeprecationWarning: `np.int` is a deprecated alias for the builtin `int`. To silence this warning, use `int` by itself. Doing this will not modify any behavior and is safe. When replacing `np.int`, you may wish to use e.g. `np.int64` or `np.int32` to specify the precision. If you wish to review your current use, check the release note link for additional information.\n",
      "Deprecated in NumPy 1.20; for more details and guidance: https://numpy.org/devdocs/release/1.20.0-notes.html#deprecations\n",
      "  bb = bb.astype(np.int)\n"
     ]
    },
    {
     "data": {
      "text/plain": [
       "array([240., 242., 318., 318.], dtype=float32)"
      ]
     },
     "execution_count": 13,
     "metadata": {},
     "output_type": "execute_result"
    }
   ],
   "source": [
    "Y = create_mask(bb, im)\n",
    "mask_to_bb(Y)"
   ]
  },
  {
   "cell_type": "code",
   "execution_count": 14,
   "metadata": {},
   "outputs": [
    {
     "data": {
      "text/plain": [
       "<matplotlib.image.AxesImage at 0x7f513a78c280>"
      ]
     },
     "execution_count": 14,
     "metadata": {},
     "output_type": "execute_result"
    },
    {
     "data": {
      "image/png": "[encoded data removed]",
      "text/plain": [
       "<Figure size 432x288 with 1 Axes>"
      ]
     },
     "metadata": {
      "needs_background": "light"
     },
     "output_type": "display_data"
    }
   ],
   "source": [
    "plt.imshow(im)"
   ]
  },
  {
   "cell_type": "code",
   "execution_count": 15,
   "metadata": {},
   "outputs": [
    {
     "data": {
      "text/plain": [
       "<matplotlib.image.AxesImage at 0x7f513a6f1760>"
      ]
     },
     "execution_count": 15,
     "metadata": {},
     "output_type": "execute_result"
    },
    {
     "data": {
      "image/png": "[encoded data removed]",
      "text/plain": [
       "<Figure size 432x288 with 1 Axes>"
      ]
     },
     "metadata": {
      "needs_background": "light"
     },
     "output_type": "display_data"
    }
   ],
   "source": [
    "plt.imshow(Y, cmap='gray')"
   ]
  },
  {
   "cell_type": "markdown",
   "metadata": {},
   "source": [
    "## Data augmentation"
   ]
  },
  {
   "cell_type": "code",
   "execution_count": 16,
   "metadata": {},
   "outputs": [],
   "source": [
    "# modified from fast.ai\n",
    "def crop(im, r, c, target_r, target_c): \n",
    "    return im[r:r+target_r, c:c+target_c]\n",
    "\n",
    "# random crop to the original size\n",
    "def random_crop(x, r_pix=8):\n",
    "    \"\"\" Returns a random crop\"\"\"\n",
    "    r, c,*_ = x.shape\n",
    "    c_pix = round(r_pix*c/r)\n",
    "    rand_r = random.uniform(0, 1)\n",
    "    rand_c = random.uniform(0, 1)\n",
    "    start_r = np.floor(2*rand_r*r_pix).astype(int)\n",
    "    start_c = np.floor(2*rand_c*c_pix).astype(int)\n",
    "    return crop(x, start_r, start_c, r-2*r_pix, c-2*c_pix)\n",
    "\n",
    "def center_crop(x, r_pix=8):\n",
    "    r, c,*_ = x.shape\n",
    "    c_pix = round(r_pix*c/r)\n",
    "    return crop(x, r_pix, c_pix, r-2*r_pix, c-2*c_pix)\n"
   ]
  },
  {
   "cell_type": "code",
   "execution_count": 17,
   "metadata": {},
   "outputs": [],
   "source": [
    "def rotate_cv(im, deg, y=False, mode=cv2.BORDER_REFLECT, interpolation=cv2.INTER_AREA):\n",
    "    \"\"\" Rotates an image by deg degrees\"\"\"\n",
    "    r,c,*_ = im.shape\n",
    "    M = cv2.getRotationMatrix2D((c/2,r/2),deg,1)\n",
    "    if y:\n",
    "        return cv2.warpAffine(im, M,(c,r), borderMode=cv2.BORDER_CONSTANT)\n",
    "    return cv2.warpAffine(im,M,(c,r), borderMode=mode, flags=cv2.WARP_FILL_OUTLIERS+interpolation)\n",
    "\n",
    "def random_cropXY(x, Y, r_pix=8):\n",
    "    \"\"\" Returns a random crop\"\"\"\n",
    "    r, c,*_ = x.shape\n",
    "    c_pix = round(r_pix*c/r)\n",
    "    rand_r = random.uniform(0, 1)\n",
    "    rand_c = random.uniform(0, 1)\n",
    "    start_r = np.floor(2*rand_r*r_pix).astype(int)\n",
    "    start_c = np.floor(2*rand_c*c_pix).astype(int)\n",
    "    xx = crop(x, start_r, start_c, r-2*r_pix, c-2*c_pix)\n",
    "    YY = crop(Y, start_r, start_c, r-2*r_pix, c-2*c_pix)\n",
    "    return xx, YY\n",
    "\n",
    "def transformsXY(path, bb, transforms):\n",
    "    x = cv2.imread(str(path)).astype(np.float32)\n",
    "    x = cv2.cvtColor(x, cv2.COLOR_BGR2RGB)/255\n",
    "    Y = create_mask(bb, x)\n",
    "    if transforms:\n",
    "        rdeg = (np.random.random()-.50)*20\n",
    "        x = rotate_cv(x, rdeg)\n",
    "        Y = rotate_cv(Y, rdeg, y=True)\n",
    "        if np.random.random() > 0.5: \n",
    "            x = np.fliplr(x).copy()\n",
    "            Y = np.fliplr(Y).copy()\n",
    "        x, Y = random_cropXY(x, Y)\n",
    "    else:\n",
    "        x, Y = center_crop(x), center_crop(Y)\n",
    "    return x, mask_to_bb(Y)"
   ]
  },
  {
   "cell_type": "code",
   "execution_count": 18,
   "metadata": {},
   "outputs": [],
   "source": [
    "def create_corner_rect(bb, color='red'):\n",
    "    bb = np.array(bb, dtype=np.float32)\n",
    "    return plt.Rectangle((bb[1], bb[0]), bb[3]-bb[1], bb[2]-bb[0], color=color,\n",
    "                         fill=False, lw=3)\n",
    "\n",
    "def show_corner_bb(im, bb):\n",
    "    plt.imshow(im)\n",
    "    plt.gca().add_patch(create_corner_rect(bb))"
   ]
  },
  {
   "cell_type": "markdown",
   "metadata": {},
   "source": [
    "## Sample Image"
   ]
  },
  {
   "cell_type": "code",
   "execution_count": 19,
   "metadata": {},
   "outputs": [
    {
     "data": {
      "image/png": "[encoded data removed]",
      "text/plain": [
       "<Figure size 432x288 with 1 Axes>"
      ]
     },
     "metadata": {
      "needs_background": "light"
     },
     "output_type": "display_data"
    }
   ],
   "source": [
    "#original\n",
    "im = cv2.imread(str(df_train.values[0][8]))\n",
    "im = cv2.cvtColor(im, cv2.COLOR_BGR2RGB)\n",
    "show_corner_bb(im, df_train.values[0][9])"
   ]
  },
  {
   "cell_type": "markdown",
   "metadata": {},
   "source": [
    "## Testset split"
   ]
  },
  {
   "cell_type": "code",
   "execution_count": 20,
   "metadata": {},
   "outputs": [],
   "source": [
    "df_train = df_train.reset_index()"
   ]
  },
  {
   "cell_type": "code",
   "execution_count": 21,
   "metadata": {},
   "outputs": [],
   "source": [
    "X = df_train[['new_path', 'new_bb']]\n",
    "Y = df_train['class']"
   ]
  },
  {
   "cell_type": "code",
   "execution_count": 22,
   "metadata": {},
   "outputs": [],
   "source": [
    "X_train, X_val, y_train, y_val = train_test_split(X, Y, test_size=0.5, random_state=42)\n",
    "#X_train, X_val, y_train, y_val = train_test_split(X, Y, test_size=0.2, random_state=42)"
   ]
  },
  {
   "cell_type": "markdown",
   "metadata": {},
   "source": [
    "## Dataset"
   ]
  },
  {
   "cell_type": "code",
   "execution_count": 23,
   "metadata": {},
   "outputs": [],
   "source": [
    "def normalize(im):\n",
    "    \"\"\"Normalizes images with Imagenet stats.\"\"\"\n",
    "    imagenet_stats = np.array([[0.485, 0.456, 0.406], [0.229, 0.224, 0.225]])\n",
    "    return (im - imagenet_stats[0])/imagenet_stats[1]"
   ]
  },
  {
   "cell_type": "code",
   "execution_count": 24,
   "metadata": {},
   "outputs": [],
   "source": [
    "class RoadDataset(Dataset):\n",
    "    def __init__(self, paths, bb, y, transforms=False):\n",
    "        self.transforms = transforms\n",
    "        self.paths = paths.values\n",
    "        self.bb = bb.values\n",
    "        self.y = y.values\n",
    "    def __len__(self):\n",
    "        return len(self.paths)\n",
    "    \n",
    "    def __getitem__(self, idx):\n",
    "        path = self.paths[idx]\n",
    "        y_class = self.y[idx]\n",
    "        x, y_bb = transformsXY(path, self.bb[idx], self.transforms)\n",
    "        x = normalize(x)\n",
    "        x = np.rollaxis(x, 2)\n",
    "        return x, y_class, y_bb"
   ]
  },
  {
   "cell_type": "code",
   "execution_count": 25,
   "metadata": {},
   "outputs": [],
   "source": [
    "train_ds = RoadDataset(X_train['new_path'],X_train['new_bb'] ,y_train, transforms=True)\n",
    "valid_ds = RoadDataset(X_val['new_path'],X_val['new_bb'],y_val)"
   ]
  },
  {
   "cell_type": "code",
   "execution_count": 26,
   "metadata": {},
   "outputs": [],
   "source": [
    "batch_size = 8\n",
    "train_dl = DataLoader(train_ds, batch_size=batch_size, shuffle=True)\n",
    "valid_dl = DataLoader(valid_ds, batch_size=batch_size)"
   ]
  },
  {
   "cell_type": "markdown",
   "metadata": {},
   "source": [
    "## Model"
   ]
  },
  {
   "cell_type": "code",
   "execution_count": 27,
   "metadata": {},
   "outputs": [],
   "source": [
    "class BB_model(nn.Module):\n",
    "    def __init__(self):\n",
    "        super(BB_model, self).__init__()\n",
    "        resnet = models.resnet34(pretrained=True)\n",
    "        layers = list(resnet.children())[:8]\n",
    "        self.features1 = nn.Sequential(*layers[:6])\n",
    "        self.features2 = nn.Sequential(*layers[6:])\n",
    "        self.classifier = nn.Sequential(nn.BatchNorm1d(512), nn.Linear(512, 4))\n",
    "        self.bb = nn.Sequential(nn.BatchNorm1d(512), nn.Linear(512, 4))\n",
    "        \n",
    "    def forward(self, x):\n",
    "        x = self.features1(x)\n",
    "        x = self.features2(x)\n",
    "        x = F.relu(x)\n",
    "        x = nn.AdaptiveAvgPool2d((1,1))(x)\n",
    "        x = x.view(x.shape[0], -1)\n",
    "        return self.classifier(x), self.bb(x)"
   ]
  },
  {
   "cell_type": "markdown",
   "metadata": {},
   "source": [
    "## Training"
   ]
  },
  {
   "cell_type": "code",
   "execution_count": 28,
   "metadata": {},
   "outputs": [],
   "source": [
    "def update_optimizer(optimizer, lr):\n",
    "    for i, param_group in enumerate(optimizer.param_groups):\n",
    "        param_group[\"lr\"] = lr"
   ]
  },
  {
   "cell_type": "code",
   "execution_count": 29,
   "metadata": {},
   "outputs": [],
   "source": [
    "def train_epocs(model, optimizer, train_dl, val_dl, epochs=10,C=1):\n",
    "    idx = 0\n",
    "    for i in range(epochs):\n",
    "        model.train()\n",
    "        total = 0\n",
    "        sum_loss = 0\n",
    "        for x, y_class, y_bb in train_dl:\n",
    "            batch = y_class.shape[0]\n",
    "            x = x.cuda().float()\n",
    "            y_class = y_class.cuda()\n",
    "            y_bb = y_bb.cuda().float()\n",
    "            out_class, out_bb = model(x)\n",
    "            loss_class = F.cross_entropy(out_class, y_class, reduction=\"sum\")\n",
    "            loss_bb = F.l1_loss(out_bb, y_bb, reduction=\"none\").sum(1)\n",
    "            loss_bb = loss_bb.sum()\n",
    "            loss = loss_class + loss_bb/C\n",
    "            optimizer.zero_grad()\n",
    "            loss.backward()\n",
    "            optimizer.step()\n",
    "            idx += 1\n",
    "            total += batch\n",
    "            sum_loss += loss.item()\n",
    "        train_loss = sum_loss/total\n",
    "        val_loss, val_acc = val_metrics(model, valid_dl, C)\n",
    "        print(\"train_loss %.3f val_loss %.3f val_acc %.3f\" % (train_loss, val_loss, val_acc))\n",
    "    return sum_loss/total\n"
   ]
  },
  {
   "cell_type": "code",
   "execution_count": 30,
   "metadata": {},
   "outputs": [],
   "source": [
    "def val_metrics(model, valid_dl, C=1):\n",
    "    model.eval()\n",
    "    total = 0\n",
    "    sum_loss = 0\n",
    "    correct = 0 \n",
    "    for x, y_class, y_bb in valid_dl:\n",
    "        batch = y_class.shape[0]\n",
    "        x = x.cuda().float()\n",
    "        y_class = y_class.cuda()\n",
    "        y_bb = y_bb.cuda().float()\n",
    "        out_class, out_bb = model(x)\n",
    "        loss_class = F.cross_entropy(out_class, y_class, reduction=\"sum\")\n",
    "        loss_bb = F.l1_loss(out_bb, y_bb, reduction=\"none\").sum(1)\n",
    "        loss_bb = loss_bb.sum()\n",
    "        loss = loss_class + loss_bb/C\n",
    "        _, pred = torch.max(out_class, 1)\n",
    "        correct += pred.eq(y_class).sum().item()\n",
    "        sum_loss += loss.item()\n",
    "        total += batch\n",
    "    return sum_loss/total, correct/total"
   ]
  },
  {
   "cell_type": "code",
   "execution_count": 31,
   "metadata": {},
   "outputs": [
    {
     "name": "stderr",
     "output_type": "stream",
     "text": [
      "/home/thilo/anaconda3/lib/python3.9/site-packages/torchvision/models/_utils.py:208: UserWarning: The parameter 'pretrained' is deprecated since 0.13 and may be removed in the future, please use 'weights' instead.\n",
      "  warnings.warn(\n",
      "/home/thilo/anaconda3/lib/python3.9/site-packages/torchvision/models/_utils.py:223: UserWarning: Arguments other than a weight enum or `None` for 'weights' are deprecated since 0.13 and may be removed in the future. The current behavior is equivalent to passing `weights=ResNet34_Weights.IMAGENET1K_V1`. You can also use `weights=ResNet34_Weights.DEFAULT` to get the most up-to-date weights.\n",
      "  warnings.warn(msg)\n"
     ]
    }
   ],
   "source": [
    "model = BB_model().cuda()\n",
    "parameters = filter(lambda p: p.requires_grad, model.parameters())\n",
    "optimizer = torch.optim.Adam(parameters, lr=0.006)"
   ]
  },
  {
   "cell_type": "code",
   "execution_count": 32,
   "metadata": {},
   "outputs": [
    {
     "name": "stderr",
     "output_type": "stream",
     "text": [
      "/tmp/ipykernel_4210/83097149.py:5: DeprecationWarning: `np.int` is a deprecated alias for the builtin `int`. To silence this warning, use `int` by itself. Doing this will not modify any behavior and is safe. When replacing `np.int`, you may wish to use e.g. `np.int64` or `np.int32` to specify the precision. If you wish to review your current use, check the release note link for additional information.\n",
      "Deprecated in NumPy 1.20; for more details and guidance: https://numpy.org/devdocs/release/1.20.0-notes.html#deprecations\n",
      "  bb = bb.astype(np.int)\n"
     ]
    },
    {
     "name": "stdout",
     "output_type": "stream",
     "text": [
      "train_loss 695.805 val_loss 688.206 val_acc 1.000\n",
      "train_loss 681.960 val_loss 8092970.286 val_acc 0.000\n",
      "train_loss 706.371 val_loss 43416256512.000 val_acc 0.000\n",
      "train_loss 727.206 val_loss 34277130240.000 val_acc 0.000\n",
      "train_loss 769.515 val_loss 9261345060.571 val_acc 0.000\n",
      "train_loss 735.010 val_loss 2225765229.714 val_acc 0.000\n",
      "train_loss 716.317 val_loss 889650688.000 val_acc 0.000\n",
      "train_loss 712.193 val_loss 373492809.143 val_acc 0.000\n",
      "train_loss 709.145 val_loss 134926976.000 val_acc 0.000\n",
      "train_loss 695.712 val_loss 48181120.000 val_acc 0.000\n",
      "train_loss 726.766 val_loss 18759467.429 val_acc 0.000\n",
      "train_loss 750.867 val_loss 7538856.000 val_acc 0.000\n",
      "train_loss 733.263 val_loss 3635153.714 val_acc 0.000\n",
      "train_loss 736.947 val_loss 1756614.286 val_acc 0.000\n",
      "train_loss 735.298 val_loss 1006042.357 val_acc 0.000\n",
      "train_loss 712.606 val_loss 557832.786 val_acc 0.000\n",
      "train_loss 731.390 val_loss 383583.393 val_acc 0.000\n",
      "train_loss 697.110 val_loss 252649.018 val_acc 0.000\n",
      "train_loss 717.115 val_loss 177406.304 val_acc 0.000\n",
      "train_loss 704.087 val_loss 121525.661 val_acc 0.000\n",
      "train_loss 671.675 val_loss 72963.469 val_acc 0.000\n",
      "train_loss 683.169 val_loss 48121.826 val_acc 0.000\n",
      "train_loss 709.120 val_loss 37197.598 val_acc 0.000\n",
      "train_loss 652.815 val_loss 26480.127 val_acc 0.000\n",
      "train_loss 657.936 val_loss 19433.721 val_acc 0.000\n",
      "train_loss 664.976 val_loss 14968.145 val_acc 0.000\n",
      "train_loss 670.754 val_loss 12726.049 val_acc 0.000\n",
      "train_loss 631.933 val_loss 10270.321 val_acc 0.000\n",
      "train_loss 642.505 val_loss 8886.214 val_acc 0.000\n",
      "train_loss 648.299 val_loss 7489.222 val_acc 0.000\n",
      "train_loss 631.810 val_loss 5904.679 val_acc 0.000\n",
      "train_loss 665.032 val_loss 4939.522 val_acc 0.000\n",
      "train_loss 598.792 val_loss 4080.542 val_acc 0.000\n",
      "train_loss 598.919 val_loss 3511.254 val_acc 0.000\n",
      "train_loss 646.408 val_loss 3082.886 val_acc 0.000\n",
      "train_loss 640.921 val_loss 2733.406 val_acc 0.000\n",
      "train_loss 612.953 val_loss 2476.057 val_acc 0.143\n",
      "train_loss 598.333 val_loss 2198.039 val_acc 0.143\n",
      "train_loss 552.724 val_loss 1961.308 val_acc 0.143\n",
      "train_loss 550.123 val_loss 1715.733 val_acc 0.286\n",
      "train_loss 589.190 val_loss 1644.122 val_acc 0.286\n",
      "train_loss 588.924 val_loss 1569.400 val_acc 0.286\n",
      "train_loss 511.570 val_loss 2161.380 val_acc 0.143\n",
      "train_loss 529.238 val_loss 6317.783 val_acc 0.000\n",
      "train_loss 548.702 val_loss 8347.372 val_acc 0.000\n",
      "train_loss 497.897 val_loss 7554.090 val_acc 0.000\n",
      "train_loss 543.891 val_loss 5674.009 val_acc 0.000\n",
      "train_loss 537.350 val_loss 4160.098 val_acc 0.000\n",
      "train_loss 515.731 val_loss 4325.962 val_acc 0.714\n",
      "train_loss 478.641 val_loss 2058.526 val_acc 1.000\n",
      "train_loss 475.779 val_loss 281.853 val_acc 1.000\n",
      "train_loss 466.099 val_loss 362.779 val_acc 1.000\n",
      "train_loss 472.700 val_loss 346.284 val_acc 1.000\n",
      "train_loss 432.663 val_loss 326.977 val_acc 1.000\n",
      "train_loss 416.960 val_loss 309.579 val_acc 1.000\n",
      "train_loss 435.535 val_loss 291.927 val_acc 1.000\n",
      "train_loss 402.109 val_loss 278.554 val_acc 1.000\n",
      "train_loss 371.401 val_loss 261.146 val_acc 1.000\n",
      "train_loss 360.603 val_loss 448.719 val_acc 0.857\n",
      "train_loss 336.981 val_loss 232.226 val_acc 1.000\n",
      "train_loss 309.825 val_loss 1006.404 val_acc 1.000\n",
      "train_loss 348.234 val_loss 2066.657 val_acc 1.000\n",
      "train_loss 298.142 val_loss 5968.362 val_acc 1.000\n",
      "train_loss 290.234 val_loss 4602.093 val_acc 1.000\n",
      "train_loss 298.924 val_loss 3256.285 val_acc 1.000\n",
      "train_loss 266.616 val_loss 4798.377 val_acc 1.000\n",
      "train_loss 258.398 val_loss 4579.211 val_acc 1.000\n",
      "train_loss 234.229 val_loss 2240.238 val_acc 0.000\n",
      "train_loss 201.034 val_loss 406.349 val_acc 0.286\n",
      "train_loss 171.635 val_loss 982.697 val_acc 1.000\n",
      "train_loss 195.589 val_loss 1997.535 val_acc 1.000\n",
      "train_loss 177.124 val_loss 653.197 val_acc 1.000\n",
      "train_loss 177.937 val_loss 1689.706 val_acc 1.000\n",
      "train_loss 207.328 val_loss 3706.771 val_acc 1.000\n",
      "train_loss 187.642 val_loss 4858.073 val_acc 1.000\n",
      "train_loss 173.252 val_loss 5130.311 val_acc 1.000\n",
      "train_loss 119.161 val_loss 7411.307 val_acc 1.000\n",
      "train_loss 134.212 val_loss 5415.520 val_acc 0.000\n",
      "train_loss 147.565 val_loss 2613.893 val_acc 0.000\n",
      "train_loss 142.318 val_loss 740.439 val_acc 0.000\n",
      "train_loss 136.231 val_loss 609.342 val_acc 0.000\n",
      "train_loss 112.519 val_loss 1036.580 val_acc 0.000\n",
      "train_loss 117.185 val_loss 2052.812 val_acc 0.000\n",
      "train_loss 110.823 val_loss 2132.408 val_acc 0.000\n",
      "train_loss 122.415 val_loss 2573.535 val_acc 0.000\n",
      "train_loss 128.074 val_loss 2977.096 val_acc 0.000\n",
      "train_loss 101.926 val_loss 2739.495 val_acc 0.000\n",
      "train_loss 119.522 val_loss 2892.953 val_acc 0.000\n",
      "train_loss 100.912 val_loss 2870.307 val_acc 0.000\n",
      "train_loss 101.349 val_loss 2319.506 val_acc 0.000\n",
      "train_loss 91.075 val_loss 1765.302 val_acc 0.000\n",
      "train_loss 89.814 val_loss 1494.425 val_acc 0.000\n",
      "train_loss 70.741 val_loss 1116.246 val_acc 0.000\n",
      "train_loss 77.279 val_loss 688.515 val_acc 0.000\n",
      "train_loss 87.312 val_loss 519.711 val_acc 0.000\n",
      "train_loss 100.628 val_loss 480.169 val_acc 0.000\n",
      "train_loss 85.302 val_loss 454.055 val_acc 0.000\n",
      "train_loss 74.176 val_loss 418.077 val_acc 0.000\n",
      "train_loss 71.310 val_loss 507.900 val_acc 0.000\n",
      "train_loss 98.055 val_loss 719.529 val_acc 1.000\n",
      "train_loss 84.236 val_loss 435.674 val_acc 1.000\n",
      "train_loss 110.576 val_loss 342.278 val_acc 1.000\n",
      "train_loss 70.956 val_loss 2760.312 val_acc 0.000\n",
      "train_loss 55.133 val_loss 7482.002 val_acc 0.000\n",
      "train_loss 63.006 val_loss 10015.838 val_acc 0.000\n",
      "train_loss 69.357 val_loss 15010.039 val_acc 0.000\n",
      "train_loss 84.396 val_loss 20809.170 val_acc 0.000\n",
      "train_loss 89.628 val_loss 21875.129 val_acc 0.000\n",
      "train_loss 75.166 val_loss 20823.699 val_acc 0.000\n",
      "train_loss 67.169 val_loss 26748.728 val_acc 0.000\n",
      "train_loss 90.349 val_loss 25354.029 val_acc 0.000\n",
      "train_loss 63.877 val_loss 25505.929 val_acc 0.000\n",
      "train_loss 75.644 val_loss 21735.344 val_acc 0.000\n",
      "train_loss 65.196 val_loss 16827.578 val_acc 0.000\n",
      "train_loss 53.757 val_loss 13838.134 val_acc 0.000\n",
      "train_loss 65.859 val_loss 11129.154 val_acc 0.000\n",
      "train_loss 66.391 val_loss 8881.564 val_acc 0.000\n",
      "train_loss 58.580 val_loss 8396.972 val_acc 0.000\n",
      "train_loss 78.156 val_loss 6855.736 val_acc 0.000\n",
      "train_loss 46.542 val_loss 5581.391 val_acc 0.000\n",
      "train_loss 69.390 val_loss 4064.528 val_acc 0.000\n",
      "train_loss 71.618 val_loss 2945.695 val_acc 0.000\n",
      "train_loss 61.972 val_loss 2038.813 val_acc 0.000\n",
      "train_loss 90.826 val_loss 1334.946 val_acc 0.000\n",
      "train_loss 86.154 val_loss 923.473 val_acc 0.000\n",
      "train_loss 69.809 val_loss 643.249 val_acc 0.429\n",
      "train_loss 48.164 val_loss 590.021 val_acc 0.429\n",
      "train_loss 46.706 val_loss 641.019 val_acc 0.143\n",
      "train_loss 79.652 val_loss 758.332 val_acc 0.143\n",
      "train_loss 64.763 val_loss 736.631 val_acc 0.000\n",
      "train_loss 78.091 val_loss 528.527 val_acc 0.286\n",
      "train_loss 67.271 val_loss 415.914 val_acc 0.714\n",
      "train_loss 57.438 val_loss 236.527 val_acc 1.000\n",
      "train_loss 47.386 val_loss 189.128 val_acc 1.000\n",
      "train_loss 69.434 val_loss 184.980 val_acc 1.000\n",
      "train_loss 93.008 val_loss 245.783 val_acc 0.857\n",
      "train_loss 65.239 val_loss 413.965 val_acc 0.143\n",
      "train_loss 61.641 val_loss 400.691 val_acc 0.000\n",
      "train_loss 61.209 val_loss 383.915 val_acc 0.000\n",
      "train_loss 51.867 val_loss 440.480 val_acc 0.000\n",
      "train_loss 71.002 val_loss 454.508 val_acc 0.000\n",
      "train_loss 80.116 val_loss 375.147 val_acc 0.571\n",
      "train_loss 77.639 val_loss 226.437 val_acc 1.000\n",
      "train_loss 80.282 val_loss 214.485 val_acc 1.000\n",
      "train_loss 66.076 val_loss 351.447 val_acc 1.000\n",
      "train_loss 73.365 val_loss 420.874 val_acc 1.000\n",
      "train_loss 50.511 val_loss 444.102 val_acc 1.000\n",
      "train_loss 53.595 val_loss 456.561 val_acc 1.000\n",
      "train_loss 61.962 val_loss 479.150 val_acc 1.000\n",
      "train_loss 70.327 val_loss 519.895 val_acc 1.000\n"
     ]
    },
    {
     "data": {
      "text/plain": [
       "70.32676188151042"
      ]
     },
     "execution_count": 32,
     "metadata": {},
     "output_type": "execute_result"
    }
   ],
   "source": [
    "train_epocs(model, optimizer, train_dl, valid_dl, epochs=150)"
   ]
  },
  {
   "cell_type": "code",
   "execution_count": 33,
   "metadata": {},
   "outputs": [
    {
     "name": "stderr",
     "output_type": "stream",
     "text": [
      "/tmp/ipykernel_4210/83097149.py:5: DeprecationWarning: `np.int` is a deprecated alias for the builtin `int`. To silence this warning, use `int` by itself. Doing this will not modify any behavior and is safe. When replacing `np.int`, you may wish to use e.g. `np.int64` or `np.int32` to specify the precision. If you wish to review your current use, check the release note link for additional information.\n",
      "Deprecated in NumPy 1.20; for more details and guidance: https://numpy.org/devdocs/release/1.20.0-notes.html#deprecations\n",
      "  bb = bb.astype(np.int)\n"
     ]
    },
    {
     "name": "stdout",
     "output_type": "stream",
     "text": [
      "train_loss 48.560 val_loss 501.741 val_acc 1.000\n",
      "train_loss 54.557 val_loss 481.926 val_acc 1.000\n",
      "train_loss 75.741 val_loss 464.275 val_acc 1.000\n",
      "train_loss 59.396 val_loss 449.461 val_acc 1.000\n",
      "train_loss 55.233 val_loss 435.572 val_acc 1.000\n",
      "train_loss 48.661 val_loss 421.803 val_acc 1.000\n",
      "train_loss 56.069 val_loss 407.170 val_acc 1.000\n",
      "train_loss 77.135 val_loss 399.180 val_acc 1.000\n",
      "train_loss 70.282 val_loss 392.489 val_acc 1.000\n",
      "train_loss 72.424 val_loss 382.568 val_acc 1.000\n"
     ]
    },
    {
     "data": {
      "text/plain": [
       "72.42389424641927"
      ]
     },
     "execution_count": 33,
     "metadata": {},
     "output_type": "execute_result"
    }
   ],
   "source": [
    "update_optimizer(optimizer, 0.001)\n",
    "train_epocs(model, optimizer, train_dl, valid_dl, epochs=10)"
   ]
  },
  {
   "cell_type": "markdown",
   "metadata": {},
   "source": [
    "## Making predictions"
   ]
  },
  {
   "cell_type": "code",
   "execution_count": 34,
   "metadata": {},
   "outputs": [
    {
     "data": {
      "text/html": [
       "<div>\n",
       "<style scoped>\n",
       "    .dataframe tbody tr th:only-of-type {\n",
       "        vertical-align: middle;\n",
       "    }\n",
       "\n",
       "    .dataframe tbody tr th {\n",
       "        vertical-align: top;\n",
       "    }\n",
       "\n",
       "    .dataframe thead th {\n",
       "        text-align: right;\n",
       "    }\n",
       "</style>\n",
       "<table border=\"1\" class=\"dataframe\">\n",
       "  <thead>\n",
       "    <tr style=\"text-align: right;\">\n",
       "      <th></th>\n",
       "      <th>new_path</th>\n",
       "      <th>new_bb</th>\n",
       "    </tr>\n",
       "  </thead>\n",
       "  <tbody>\n",
       "    <tr>\n",
       "      <th>11</th>\n",
       "      <td>/home/thilo/bb_test/custom_data/images_resized...</td>\n",
       "      <td>[161.0, 180.0, 197.0, 262.0]</td>\n",
       "    </tr>\n",
       "    <tr>\n",
       "      <th>9</th>\n",
       "      <td>/home/thilo/bb_test/custom_data/images_resized...</td>\n",
       "      <td>[120.0, 188.0, 157.0, 285.0]</td>\n",
       "    </tr>\n",
       "    <tr>\n",
       "      <th>0</th>\n",
       "      <td>/home/thilo/bb_test/custom_data/images_resized...</td>\n",
       "      <td>[150.0, 169.0, 199.0, 222.0]</td>\n",
       "    </tr>\n",
       "    <tr>\n",
       "      <th>8</th>\n",
       "      <td>/home/thilo/bb_test/custom_data/images_resized...</td>\n",
       "      <td>[133.0, 196.0, 169.0, 263.0]</td>\n",
       "    </tr>\n",
       "    <tr>\n",
       "      <th>5</th>\n",
       "      <td>/home/thilo/bb_test/custom_data/images_resized...</td>\n",
       "      <td>[48.0, 75.0, 121.0, 137.0]</td>\n",
       "    </tr>\n",
       "    <tr>\n",
       "      <th>2</th>\n",
       "      <td>/home/thilo/bb_test/custom_data/images_resized...</td>\n",
       "      <td>[141.0, 160.0, 180.0, 260.0]</td>\n",
       "    </tr>\n",
       "    <tr>\n",
       "      <th>1</th>\n",
       "      <td>/home/thilo/bb_test/custom_data/images_resized...</td>\n",
       "      <td>[123.0, 30.0, 210.0, 130.0]</td>\n",
       "    </tr>\n",
       "  </tbody>\n",
       "</table>\n",
       "</div>"
      ],
      "text/plain": [
       "                                             new_path  \\\n",
       "11  /home/thilo/bb_test/custom_data/images_resized...   \n",
       "9   /home/thilo/bb_test/custom_data/images_resized...   \n",
       "0   /home/thilo/bb_test/custom_data/images_resized...   \n",
       "8   /home/thilo/bb_test/custom_data/images_resized...   \n",
       "5   /home/thilo/bb_test/custom_data/images_resized...   \n",
       "2   /home/thilo/bb_test/custom_data/images_resized...   \n",
       "1   /home/thilo/bb_test/custom_data/images_resized...   \n",
       "\n",
       "                          new_bb  \n",
       "11  [161.0, 180.0, 197.0, 262.0]  \n",
       "9   [120.0, 188.0, 157.0, 285.0]  \n",
       "0   [150.0, 169.0, 199.0, 222.0]  \n",
       "8   [133.0, 196.0, 169.0, 263.0]  \n",
       "5     [48.0, 75.0, 121.0, 137.0]  \n",
       "2   [141.0, 160.0, 180.0, 260.0]  \n",
       "1    [123.0, 30.0, 210.0, 130.0]  "
      ]
     },
     "execution_count": 34,
     "metadata": {},
     "output_type": "execute_result"
    }
   ],
   "source": [
    "# choose random image from validation set\n",
    "X_val"
   ]
  },
  {
   "cell_type": "code",
   "execution_count": 35,
   "metadata": {},
   "outputs": [
    {
     "name": "stdout",
     "output_type": "stream",
     "text": [
      "/home/thilo/bb_test/custom_data/images_resized/postprocessed_hand_30.jpg\n"
     ]
    },
    {
     "data": {
      "text/plain": [
       "True"
      ]
     },
     "execution_count": 35,
     "metadata": {},
     "output_type": "execute_result"
    }
   ],
   "source": [
    "# resizing test image\n",
    "im = read_image('/home/thilo/bb_test/custom_data/images_resized/postprocessed_hand_30.jpg')\n",
    "im = cv2.resize(im, (int(1.49*300), 300))\n",
    "cv2.imwrite('/home/thilo/bb_test/custom_data/test_images/postprocessed_hand_30.jpg', cv2.cvtColor(im, cv2.COLOR_RGB2BGR))"
   ]
  },
  {
   "cell_type": "code",
   "execution_count": 36,
   "metadata": {},
   "outputs": [
    {
     "name": "stderr",
     "output_type": "stream",
     "text": [
      "/tmp/ipykernel_4210/83097149.py:5: DeprecationWarning: `np.int` is a deprecated alias for the builtin `int`. To silence this warning, use `int` by itself. Doing this will not modify any behavior and is safe. When replacing `np.int`, you may wish to use e.g. `np.int64` or `np.int32` to specify the precision. If you wish to review your current use, check the release note link for additional information.\n",
      "Deprecated in NumPy 1.20; for more details and guidance: https://numpy.org/devdocs/release/1.20.0-notes.html#deprecations\n",
      "  bb = bb.astype(np.int)\n"
     ]
    }
   ],
   "source": [
    "# test Dataset\n",
    "test_ds = RoadDataset(pd.DataFrame([{'path':'/home/thilo/bb_test/custom_data/test_images/postprocessed_hand_30.jpg'}])['path'],pd.DataFrame([{'bb':np.array([0,0,0,0])}])['bb'],pd.DataFrame([{'y':[0]}])['y'])\n",
    "x, y_class, y_bb = test_ds[0]"
   ]
  },
  {
   "cell_type": "code",
   "execution_count": 37,
   "metadata": {},
   "outputs": [
    {
     "data": {
      "text/plain": [
       "torch.Size([1, 3, 284, 423])"
      ]
     },
     "execution_count": 37,
     "metadata": {},
     "output_type": "execute_result"
    }
   ],
   "source": [
    "xx = torch.FloatTensor(x[None,])\n",
    "xx.shape"
   ]
  },
  {
   "cell_type": "code",
   "execution_count": 38,
   "metadata": {},
   "outputs": [
    {
     "data": {
      "text/plain": [
       "(tensor([[ 5.5850, -1.9925, -2.7176, -2.8510]], device='cuda:0',\n",
       "        grad_fn=<AddmmBackward0>),\n",
       " tensor([[196.1815, 195.4120, 264.7242, 306.3172]], device='cuda:0',\n",
       "        grad_fn=<AddmmBackward0>))"
      ]
     },
     "execution_count": 38,
     "metadata": {},
     "output_type": "execute_result"
    }
   ],
   "source": [
    "# prediction\n",
    "out_class, out_bb = model(xx.cuda())\n",
    "out_class, out_bb"
   ]
  },
  {
   "cell_type": "code",
   "execution_count": 39,
   "metadata": {},
   "outputs": [
    {
     "data": {
      "text/plain": [
       "torch.return_types.max(\n",
       "values=tensor([5.5850], device='cuda:0', grad_fn=<MaxBackward0>),\n",
       "indices=tensor([0], device='cuda:0'))"
      ]
     },
     "execution_count": 39,
     "metadata": {},
     "output_type": "execute_result"
    }
   ],
   "source": [
    "# predicted class\n",
    "torch.max(out_class, 1)"
   ]
  },
  {
   "cell_type": "code",
   "execution_count": 40,
   "metadata": {},
   "outputs": [
    {
     "name": "stdout",
     "output_type": "stream",
     "text": [
      "[196 195 264 306]\n"
     ]
    },
    {
     "data": {
      "image/png": "[encoded data removed]",
      "text/plain": [
       "<Figure size 432x288 with 1 Axes>"
      ]
     },
     "metadata": {
      "needs_background": "light"
     },
     "output_type": "display_data"
    }
   ],
   "source": [
    "# predicted bounding box\n",
    "bb_hat = out_bb.detach().cpu().numpy()\n",
    "bb_hat = bb_hat.astype(int)\n",
    "show_corner_bb(im, bb_hat[0])\n",
    "print(bb_hat[0])"
   ]
  },
  {
   "cell_type": "code",
   "execution_count": 41,
   "metadata": {},
   "outputs": [],
   "source": [
    "# save the model parameters\n",
    "torch.save(model.state_dict(), \"./model/model.pth\")"
   ]
  },
  {
   "cell_type": "code",
   "execution_count": null,
   "metadata": {},
   "outputs": [],
   "source": []
  }
 ],
 "metadata": {
  "kernelspec": {
   "display_name": "Python 3.9.12 ('base')",
   "language": "python",
   "name": "python3"
  },
  "language_info": {
   "codemirror_mode": {
    "name": "ipython",
    "version": 3
   },
   "file_extension": ".py",
   "mimetype": "text/x-python",
   "name": "python",
   "nbconvert_exporter": "python",
   "pygments_lexer": "ipython3",
   "version": "3.9.12"
  },
  "orig_nbformat": 4,
  "vscode": {
   "interpreter": {
    "hash": "1c2fea689b1637d52ade41bba95e3b3b8f84163a8415e063cc1cc6f394c4b7e1"
   }
  }
 },
 "nbformat": 4,
 "nbformat_minor": 2
}
